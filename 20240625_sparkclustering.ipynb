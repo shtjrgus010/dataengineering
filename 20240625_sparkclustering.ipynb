{
 "cells": [
  {
   "cell_type": "code",
   "execution_count": 1,
   "id": "3d1f4356-0b37-47fd-a126-45c52cf5a663",
   "metadata": {},
   "outputs": [
    {
     "name": "stderr",
     "output_type": "stream",
     "text": [
      "Setting default log level to \"WARN\".\n",
      "To adjust logging level use sc.setLogLevel(newLevel). For SparkR, use setLogLevel(newLevel).\n",
      "24/06/24 06:49:57 WARN NativeCodeLoader: Unable to load native-hadoop library for your platform... using builtin-java classes where applicable\n"
     ]
    }
   ],
   "source": [
    "import pyspark\n",
    "from pyspark.sql import SparkSession\n",
    "\n",
    "conf = pyspark.SparkConf().\\\n",
    "        setMaster(\"spark://master:7077\").\\\n",
    "        set(\"spark.executor.instances\", \"2\") \n",
    "spark = SparkSession.builder.config(conf=conf).getOrCreate()\n"
   ]
  },
  {
   "cell_type": "code",
   "execution_count": null,
   "id": "8f72dfa5-b07e-42c0-a4bb-e713194d8924",
   "metadata": {},
   "outputs": [],
   "source": [
    "pip install pyspark"
   ]
  },
  {
   "cell_type": "code",
   "execution_count": null,
   "id": "e1aa1558-5609-419c-8a82-a36e234ff8bb",
   "metadata": {},
   "outputs": [
    {
     "name": "stderr",
     "output_type": "stream",
     "text": [
      "[Stage 0:>                  (0 + 4) / 4][Stage 1:>                  (0 + 0) / 4]\r"
     ]
    }
   ],
   "source": [
    "from pyspark.sql.functions import current_date, current_timestamp, \\\n",
    "    date_add, date_sub, datediff, months_between, to_date, lit, to_timestamp\n",
    "\n",
    "\n",
    "spark.range(3).\\\n",
    "    withColumn(\"today\", current_date()).show()\n",
    "\n",
    "\n",
    "\n",
    "\n",
    "dateDF = spark.range(3).\\\n",
    "    withColumn(\"today\", current_date()).\\\n",
    "    withColumn(\"now\", current_timestamp())\n",
    "\n",
    "\n",
    "\n",
    "dateDF.select(\"today\", date_add(\"today\", 100).alias(\"100일\"), date_sub(\"today\", 100).alias(\"-100일\")).show()\n",
    "\n",
    "\n",
    "\n",
    "dateDF.withColumn(\"week_ago\", date_sub(\"today\", 7)).\\\n",
    "            select(datediff(\"week_ago\", \"today\")).show()\n",
    "\n",
    "\n",
    "dateDF.select(to_date(lit('2024-04-01')).alias('start'), \n",
    "             to_date(lit('2024-09-27')).alias('end')).\\\n",
    "        select(months_between(\"end\", \"start\"), datediff(\"end\", \"start\")).show()\n"
   ]
  },
  {
   "cell_type": "code",
   "execution_count": null,
   "id": "54c7df46-4244-4e7b-b5ca-169eb085f507",
   "metadata": {},
   "outputs": [],
   "source": [
    "# 날짜 데이터 파싱 \n",
    "dateFormat = \"yy/MM/dd\"\n",
    "cleanDataDF = spark.range(1).select(to_date(lit('24/06/24'), dateFormat)).show()\n"
   ]
  },
  {
   "cell_type": "code",
   "execution_count": null,
   "id": "dd09f73d-d26e-4d30-bc7b-250dbc81c395",
   "metadata": {},
   "outputs": [],
   "source": [
    "import requests\n",
    "import pandas as pd \n",
    "\n",
    "url = \"http://openapi.molit.go.kr/OpenAPI_ToolInstallPackage/service/rest/RTMSOBJSvc/getRTMSDataSvcAptTradeDev?serviceKey=34lIyWAciAsJlGtIZ4ltpLy2sLZDR%2BBRWvAv8RgoADNEd%2BKCgHe84XiSRUwL8JMMIubzsFW3ddjcNlhZHhvJIQ%3D%3D&pageNo=1&numOfRows=1000&LAWD_CD=11680&DEAL_YMD=202405\"\n",
    "\n",
    "\n",
    "r= requests.get(url)\n",
    "\n",
    "\n",
    "import xml.etree.ElementTree as ET\n",
    "root = ET.fromstring(r.text)\n",
    "items = root.iter(tag='item')\n",
    "for x in items:\n",
    "    for y in x:\n",
    "        print(y.tag, y.text)\n",
    "\n",
    "apt =pd.DataFrame([{y.tag : y.text for y in x} for x in items])\n",
    "\n",
    "\n",
    "apt = pd.DataFrame([{y.tag : y.text for y in x} for x in root.iter(tag='item')])\n",
    "apt_spark_df = spark.createDataFrame(apt)\n",
    "\n",
    "\n",
    "\n",
    "apt['월'].apply(lambda x : \"{:02d}\".format(int(x))) + \"-\" + apt['일']\n",
    "\n"
   ]
  },
  {
   "cell_type": "code",
   "execution_count": null,
   "id": "e953e209-5c22-4dd5-9f55-00b0e97e2154",
   "metadata": {},
   "outputs": [
    {
     "name": "stderr",
     "output_type": "stream",
     "text": [
      "[Stage 0:>                  (0 + 4) / 4][Stage 1:>                  (0 + 0) / 4]\r"
     ]
    }
   ],
   "source": [
    "import requests\n",
    "import pandas as pd \n",
    "\n",
    "url = \"http://openapi.molit.go.kr/OpenAPI_ToolInstallPackage/service/rest/RTMSOBJSvc/getRTMSDataSvcAptTradeDev?serviceKey=34lIyWAciAsJlGtIZ4ltpLy2sLZDR%2BBRWvAv8RgoADNEd%2BKCgHe84XiSRUwL8JMMIubzsFW3ddjcNlhZHhvJIQ%3D%3D&pageNo=1&numOfRows=1000&LAWD_CD=11680&DEAL_YMD=202405\"\n",
    "\n",
    "\n",
    "r= requests.get(url)\n"
   ]
  },
  {
   "cell_type": "code",
   "execution_count": null,
   "id": "322da276-bf38-4143-bb84-71040c109acc",
   "metadata": {},
   "outputs": [],
   "source": [
    "import xml.etree.ElementTree as ET\n",
    "root = ET.fromstring(r.text)\n",
    "items = root.iter(tag='item')\n",
    "for x in items:\n",
    "    for y in x:\n",
    "        print(y.tag, y.text)\n",
    "\n",
    "apt =pd.DataFrame([{y.tag : y.text for y in x} for x in items])\n",
    "\n",
    "\n",
    "apt = pd.DataFrame([{y.tag : y.text for y in x} for x in root.iter(tag='item')])\n",
    "apt_spark_df = spark.createDataFrame(apt)\n",
    "\n",
    "\n",
    "\n",
    "apt['월'].apply(lambda x : \"{:02d}\".format(int(x))) + \"-\" + apt['일']\n",
    "\n",
    "\n",
    "apt['날짜'] = apt[['월', '일']].apply(lambda x : \"2024-\" + \"{:02d}\".format(int(x[0])) + \"-\" + \"{:02d}\".format(int(x[1])) ,axis=1)\n",
    "\n",
    "\n",
    "from pyspark.sql.functions import concat \n",
    "apt_spark_df.withColumn(\"날짜\", concat(lit('2024-'), \"월\", lit(\"-\"), \"일\")).limit(3).show(truncate=False)\n",
    "\n",
    "\n",
    "from pyspark.sql.functions import concat, format_string,col\n",
    "apt_spark_df.withColumn(\"날짜\", concat(lit('2024-'), \n",
    "                        format_string(\"%02d\", col(\"월\").cast('int')), lit(\"-\"), \n",
    "                        format_string(\"%02d\", col(\"일\").cast('int')))).limit(3).show(truncate=False)\n",
    "\n",
    "from pyspark.sql.functions import concat, format_string,col\n",
    "apt_spark_df2 = apt_spark_df.withColumn(\"날짜\", concat(lit('2024-'), \n",
    "                        format_string(\"%02d\", col(\"월\").cast('int')), lit(\"-\"), \n",
    "                        format_string(\"%02d\", col(\"일\").cast('int'))))\n",
    "\n",
    "\n",
    "\n",
    "\n",
    "apt_spark_df3 = apt_spark_df2.withColumn(\"날짜\", to_date(\"날짜\", \"yyyy-MM-dd\"))\n",
    "\n",
    "\n",
    "apt_spark_df3= apt_spark_df3.withColumn(\"건축년도\", col(\"건축년도\").cast('int'))\n"
   ]
  }
 ],
 "metadata": {
  "kernelspec": {
   "display_name": "Python 3 (ipykernel)",
   "language": "python",
   "name": "python3"
  },
  "language_info": {
   "codemirror_mode": {
    "name": "ipython",
    "version": 3
   },
   "file_extension": ".py",
   "mimetype": "text/x-python",
   "name": "python",
   "nbconvert_exporter": "python",
   "pygments_lexer": "ipython3",
   "version": "3.12.3"
  }
 },
 "nbformat": 4,
 "nbformat_minor": 5
}
