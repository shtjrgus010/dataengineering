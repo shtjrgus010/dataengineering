{
 "cells": [
  {
   "cell_type": "code",
   "execution_count": 1,
   "id": "102723ff-0583-450c-b664-f3b695ef082e",
   "metadata": {},
   "outputs": [
    {
     "name": "stderr",
     "output_type": "stream",
     "text": [
      "Setting default log level to \"WARN\".\n",
      "To adjust logging level use sc.setLogLevel(newLevel). For SparkR, use setLogLevel(newLevel).\n",
      "24/06/27 00:11:57 WARN NativeCodeLoader: Unable to load native-hadoop library for your platform... using builtin-java classes where applicable\n"
     ]
    }
   ],
   "source": [
    "from pyspark.sql import SparkSession\n",
    "\n",
    "spark = SparkSession.builder.appName(\"20240627\").getOrCreate()\n"
   ]
  },
  {
   "cell_type": "code",
   "execution_count": 2,
   "id": "f7e34cbe-9d25-4dcf-a341-7bf4645a23c0",
   "metadata": {},
   "outputs": [
    {
     "data": {
      "text/html": [
       "\n",
       "            <div>\n",
       "                <p><b>SparkSession - in-memory</b></p>\n",
       "                \n",
       "        <div>\n",
       "            <p><b>SparkContext</b></p>\n",
       "\n",
       "            <p><a href=\"http://producer:4040\">Spark UI</a></p>\n",
       "\n",
       "            <dl>\n",
       "              <dt>Version</dt>\n",
       "                <dd><code>v3.5.1</code></dd>\n",
       "              <dt>Master</dt>\n",
       "                <dd><code>local[*]</code></dd>\n",
       "              <dt>AppName</dt>\n",
       "                <dd><code>20240627</code></dd>\n",
       "            </dl>\n",
       "        </div>\n",
       "        \n",
       "            </div>\n",
       "        "
      ],
      "text/plain": [
       "<pyspark.sql.session.SparkSession at 0x7f0bc45eca70>"
      ]
     },
     "execution_count": 2,
     "metadata": {},
     "output_type": "execute_result"
    }
   ],
   "source": [
    "spark"
   ]
  },
  {
   "cell_type": "code",
   "execution_count": 3,
   "id": "5aa803d3-1186-4d7f-a38a-f3f1c2d16d28",
   "metadata": {},
   "outputs": [
    {
     "name": "stderr",
     "output_type": "stream",
     "text": [
      "                                                                                \r"
     ]
    }
   ],
   "source": [
    "winter_df = spark.read.csv(\"hdfs:///encore/tpss_bcycl_od_statnhm_202001.csv\", \n",
    "               encoding='cp949', header=True)"
   ]
  },
  {
   "cell_type": "code",
   "execution_count": 6,
   "id": "85ff2aa6-b76d-44ab-9f63-e710bedbab7e",
   "metadata": {},
   "outputs": [
    {
     "name": "stdout",
     "output_type": "stream",
     "text": [
      "root\n",
      " |-- 기준_날짜: string (nullable = true)\n",
      " |-- 구분코드: string (nullable = true)\n",
      " |-- 기준_시간: string (nullable = true)\n",
      " |-- 시작_대여소ID: string (nullable = true)\n",
      " |-- 시작_대여소명: string (nullable = true)\n",
      " |-- 종료_대여소ID: string (nullable = true)\n",
      " |-- 종료_대여소명: string (nullable = true)\n",
      " |-- 전체건수: string (nullable = true)\n",
      " |-- 전체이용시간(분): string (nullable = true)\n",
      " |-- 전체이용거리(m): string (nullable = true)\n",
      "\n"
     ]
    }
   ],
   "source": [
    "winter_df.printSchema()"
   ]
  },
  {
   "cell_type": "code",
   "execution_count": 7,
   "id": "6964763d-bc21-4434-9630-40d150010a41",
   "metadata": {},
   "outputs": [
    {
     "name": "stderr",
     "output_type": "stream",
     "text": [
      "                                                                                \r"
     ]
    },
    {
     "data": {
      "text/plain": [
       "Row(기준_날짜='20200101', 구분코드='0', 기준_시간='0000', 시작_대여소ID='ST-443', 시작_대여소명='성산2동_041_2', 종료_대여소ID='ST-82', 종료_대여소명='성산2동_041_3', 전체건수='1', 전체이용시간(분)='2', 전체이용거리(m)='450')"
      ]
     },
     "execution_count": 7,
     "metadata": {},
     "output_type": "execute_result"
    }
   ],
   "source": [
    "winter_df.first()"
   ]
  },
  {
   "cell_type": "code",
   "execution_count": 16,
   "id": "57033ba2-1807-4843-becb-8dd67adfa072",
   "metadata": {},
   "outputs": [],
   "source": [
    "from pyspark.sql.types import StructType, IntegerType, StringType, FloatType\n",
    "schema = StructType().\\\n",
    "      add('기준_날짜',  StringType(), True ).\\\n",
    "        add('구분코드',  StringType(), True ).\\\n",
    "        add('기준_시간',  StringType(), True ).\\\n",
    "        add('시작_대여소ID',  StringType(), True ).\\\n",
    "        add('시작_대여소명',  StringType(), True ).\\\n",
    "        add('종료_대여소ID',  StringType(), True ).\\\n",
    "        add('종료_대여소명',  StringType(), True ).\\\n",
    "        add('전체건수',  IntegerType(), True ).\\\n",
    "        add('전체이용시간(분)',  IntegerType(), True ).\\\n",
    "        add('전체이용거리(m)' , FloatType(), True )\n",
    "\n",
    "winter_df = spark.read.format(\"csv\").\\\n",
    "            option(\"header\", True).\\\n",
    "            option(\"encoding\", \"cp949\").\\\n",
    "            schema(schema).csv(\"hdfs:///encore/tpss_bcycl_od_statnhm_202001.csv\")\n",
    "summer_df = spark.read.format(\"csv\").\\\n",
    "            option(\"header\", True).\\\n",
    "            option(\"encoding\", \"cp949\").\\\n",
    "            schema(schema).csv(\"hdfs:///encore/tpss_bcycl_od_statnhm_202007.csv\")\n"
   ]
  },
  {
   "cell_type": "code",
   "execution_count": 18,
   "id": "1dc2b96e-2f2c-4296-b893-90991deacf16",
   "metadata": {},
   "outputs": [],
   "source": [
    "winter_df= winter_df.withColumn(\"기준_날짜\", fn.to_date(fn.col(\"기준_날짜\"), \"yyyyMMdd\"))"
   ]
  },
  {
   "cell_type": "code",
   "execution_count": 35,
   "id": "c9da9f82-27b2-4367-a9de-5741f0cad869",
   "metadata": {},
   "outputs": [],
   "source": [
    "summer_df= summer_df.withColumn(\"기준_날짜\", fn.to_date(fn.col(\"기준_날짜\"), \"yyyyMMdd\"))\n",
    "summer_df = summer_df.withColumn(\"요일\", fn.date_format(fn.col(\"기준_날짜\"),\"E\"))"
   ]
  },
  {
   "cell_type": "code",
   "execution_count": 36,
   "id": "f8a9edfd-f1f8-4132-93b5-be79a0e90c43",
   "metadata": {},
   "outputs": [
    {
     "name": "stderr",
     "output_type": "stream",
     "text": [
      "                                                                                \r"
     ]
    },
    {
     "data": {
      "text/plain": [
       "Row(기준_날짜=datetime.date(2020, 7, 1), 구분코드='1', 기준_시간='0000', 시작_대여소ID='ST-883', 시작_대여소명='조원동_034_1', 종료_대여소ID='ST-1265', 종료_대여소명='조원동_014_1', 전체건수=1, 전체이용시간(분)=7, 전체이용거리(m)=0.0, 요일='Wed')"
      ]
     },
     "execution_count": 36,
     "metadata": {},
     "output_type": "execute_result"
    }
   ],
   "source": [
    "summer_df.first()"
   ]
  },
  {
   "cell_type": "code",
   "execution_count": 27,
   "id": "36684b31-f742-4ed7-917a-0e1347198297",
   "metadata": {},
   "outputs": [],
   "source": [
    "winter_df = winter_df.withColumn(\"요일\", fn.date_format(fn.col(\"기준_날짜\"),\"E\"))"
   ]
  },
  {
   "cell_type": "code",
   "execution_count": 28,
   "id": "7849a2fe-393b-402e-bc38-71de870a4c28",
   "metadata": {},
   "outputs": [
    {
     "name": "stderr",
     "output_type": "stream",
     "text": [
      "                                                                                \r"
     ]
    },
    {
     "data": {
      "text/plain": [
       "Row(기준_날짜=datetime.date(2020, 1, 1), 구분코드='0', 기준_시간='0000', 시작_대여소ID='ST-443', 시작_대여소명='성산2동_041_2', 종료_대여소ID='ST-82', 종료_대여소명='성산2동_041_3', 전체건수=1, 전체이용시간(분)=2, 전체이용거리(m)=450.0, 요일='Wed')"
      ]
     },
     "execution_count": 28,
     "metadata": {},
     "output_type": "execute_result"
    }
   ],
   "source": [
    "winter_df.first()"
   ]
  },
  {
   "cell_type": "code",
   "execution_count": 15,
   "id": "6ccd52a3-9c1d-4789-8a5d-db73ac552268",
   "metadata": {},
   "outputs": [
    {
     "name": "stderr",
     "output_type": "stream",
     "text": [
      "[Stage 3:=======================================>                   (2 + 1) / 3]\r"
     ]
    },
    {
     "name": "stdout",
     "output_type": "stream",
     "text": [
      "+---------+--------+---------+-------------+-------------+-------------+-------------+--------+----------------+---------------+\n",
      "|기준_날짜|구분코드|기준_시간|시작_대여소ID|시작_대여소명|종료_대여소ID|종료_대여소명|전체건수|전체이용시간(분)|전체이용거리(m)|\n",
      "+---------+--------+---------+-------------+-------------+-------------+-------------+--------+----------------+---------------+\n",
      "|        0|       0|        0|            0|            0|            0|            0|       0|               0|              0|\n",
      "+---------+--------+---------+-------------+-------------+-------------+-------------+--------+----------------+---------------+\n",
      "\n"
     ]
    },
    {
     "name": "stderr",
     "output_type": "stream",
     "text": [
      "                                                                                \r"
     ]
    }
   ],
   "source": [
    "import pyspark.sql.functions as fn\n",
    "summer_df.agg(*[\n",
    "    fn.count(fn.when(fn.isnull(x), x)).\\\n",
    "             alias(x) for x in summer_df.columns\n",
    "            ]).show()"
   ]
  },
  {
   "cell_type": "markdown",
   "id": "461b7b97-588d-4545-ad46-404a1c114d73",
   "metadata": {},
   "source": [
    "## Groupby"
   ]
  },
  {
   "cell_type": "code",
   "execution_count": 30,
   "id": "2b6aa736-d6c1-4a2b-b7ad-9c54f77e44b4",
   "metadata": {},
   "outputs": [],
   "source": [
    "simpleData = [(\"James\",\"Sales\",\"NY\",90000,34,10000),\n",
    "    (\"Michael\",\"Sales\",\"NY\",86000,56,20000),\n",
    "    (\"Robert\",\"Sales\",\"CA\",81000,30,23000),\n",
    "    (\"Maria\",\"Finance\",\"CA\",90000,24,23000),\n",
    "    (\"Raman\",\"Finance\",\"CA\",99000,40,24000),\n",
    "    (\"Scott\",\"Finance\",\"NY\",83000,36,19000),\n",
    "    (\"Jen\",\"Finance\",\"NY\",79000,53,15000),\n",
    "    (\"Jeff\",\"Marketing\",\"CA\",80000,25,18000),\n",
    "    (\"Kumar\",\"Marketing\",\"NY\",91000,50,21000)\n",
    "  ]"
   ]
  },
  {
   "cell_type": "code",
   "execution_count": 31,
   "id": "729eab04-2fb5-46a2-b8aa-0e9e6230022c",
   "metadata": {},
   "outputs": [
    {
     "name": "stdout",
     "output_type": "stream",
     "text": [
      "+-------------+----------+-----+------+---+-----+\n",
      "|employee_name|department|state|salary|age|bonus|\n",
      "+-------------+----------+-----+------+---+-----+\n",
      "|James        |Sales     |NY   |90000 |34 |10000|\n",
      "|Michael      |Sales     |NY   |86000 |56 |20000|\n",
      "|Robert       |Sales     |CA   |81000 |30 |23000|\n",
      "|Maria        |Finance   |CA   |90000 |24 |23000|\n",
      "|Raman        |Finance   |CA   |99000 |40 |24000|\n",
      "|Scott        |Finance   |NY   |83000 |36 |19000|\n",
      "|Jen          |Finance   |NY   |79000 |53 |15000|\n",
      "|Jeff         |Marketing |CA   |80000 |25 |18000|\n",
      "|Kumar        |Marketing |NY   |91000 |50 |21000|\n",
      "+-------------+----------+-----+------+---+-----+\n",
      "\n",
      "+----------+-----+\n",
      "|department|count|\n",
      "+----------+-----+\n",
      "|Sales     |3    |\n",
      "|Finance   |4    |\n",
      "|Marketing |2    |\n",
      "+----------+-----+\n",
      "\n"
     ]
    }
   ],
   "source": [
    "# Create DataFrame\n",
    "schema = [\"employee_name\",\"department\",\"state\",\"salary\",\"age\",\"bonus\"]\n",
    "df = spark.createDataFrame(data=simpleData, schema = schema)\n",
    "df.show(truncate=False)\n",
    "df.groupBy(\"department\").count().show(truncate=False)"
   ]
  },
  {
   "cell_type": "code",
   "execution_count": 33,
   "id": "d736c25a-61c5-4f34-80b8-bbfd89792998",
   "metadata": {},
   "outputs": [
    {
     "name": "stderr",
     "output_type": "stream",
     "text": [
      "[Stage 24:=============================>                            (1 + 1) / 2]\r"
     ]
    },
    {
     "name": "stdout",
     "output_type": "stream",
     "text": [
      "+----+------+\n",
      "|요일|count |\n",
      "+----+------+\n",
      "|Sun |170925|\n",
      "|Sat |184020|\n",
      "|Mon |185929|\n",
      "|Tue |197435|\n",
      "|Wed |289054|\n",
      "|Fri |305148|\n",
      "|Thu |336492|\n",
      "+----+------+\n",
      "\n"
     ]
    },
    {
     "name": "stderr",
     "output_type": "stream",
     "text": [
      "                                                                                \r"
     ]
    }
   ],
   "source": [
    "winter_df.groupBy(\"요일\").count().orderBy(\"count\").show(truncate=False)"
   ]
  },
  {
   "cell_type": "code",
   "execution_count": 38,
   "id": "c97c8847-73ba-4e1d-b9a2-d7bd375fee98",
   "metadata": {},
   "outputs": [
    {
     "name": "stderr",
     "output_type": "stream",
     "text": [
      "[Stage 31:======================================>                   (2 + 1) / 3]\r"
     ]
    },
    {
     "name": "stdout",
     "output_type": "stream",
     "text": [
      "+----+------+\n",
      "|요일|count |\n",
      "+----+------+\n",
      "|Fri |914310|\n",
      "|Thu |820097|\n",
      "|Wed |781305|\n",
      "|Sat |747857|\n",
      "|Tue |682796|\n",
      "|Sun |597415|\n",
      "|Mon |466809|\n",
      "+----+------+\n",
      "\n"
     ]
    },
    {
     "name": "stderr",
     "output_type": "stream",
     "text": [
      "                                                                                \r"
     ]
    }
   ],
   "source": [
    "summer_df.groupBy(\"요일\").count().orderBy(\"count\", ascending=False).show(truncate=False)"
   ]
  },
  {
   "cell_type": "code",
   "execution_count": null,
   "id": "3229dc40-45dc-4d6d-833a-b1d9f2e55f86",
   "metadata": {},
   "outputs": [
    {
     "name": "stderr",
     "output_type": "stream",
     "text": [
      "[Stage 35:===================>                                      (1 + 2) / 3]\r"
     ]
    }
   ],
   "source": [
    "friday_df = summer_df.filter(fn.col(\"요일\") == \"Fri\")\n",
    "friday_df.select(\"기준_시간\", \"전체이용시간(분)\").orderBy(\"전체이용시간(분)\").show()\n",
    "#friday_df = df.filter(col(\"요일\") == \"Fri\").select(\"기준_시간\", \"전체이용시간(분)\")"
   ]
  },
  {
   "cell_type": "code",
   "execution_count": null,
   "id": "c95b67af-f2d3-4d03-b8ec-4e75e48e31ac",
   "metadata": {},
   "outputs": [],
   "source": []
  }
 ],
 "metadata": {
  "kernelspec": {
   "display_name": "Python 3 (ipykernel)",
   "language": "python",
   "name": "python3"
  },
  "language_info": {
   "codemirror_mode": {
    "name": "ipython",
    "version": 3
   },
   "file_extension": ".py",
   "mimetype": "text/x-python",
   "name": "python",
   "nbconvert_exporter": "python",
   "pygments_lexer": "ipython3",
   "version": "3.12.3"
  }
 },
 "nbformat": 4,
 "nbformat_minor": 5
}
