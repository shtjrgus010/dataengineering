{
 "cells": [
  {
   "cell_type": "code",
   "execution_count": 1,
   "id": "2e26c1fb-b0d7-4306-9981-42624672e37c",
   "metadata": {},
   "outputs": [
    {
     "name": "stdout",
     "output_type": "stream",
     "text": [
      "Collecting pandas\n",
      "  Downloading pandas-2.2.2-cp312-cp312-manylinux_2_17_x86_64.manylinux2014_x86_64.whl.metadata (19 kB)\n",
      "Collecting numpy>=1.26.0 (from pandas)\n",
      "  Downloading numpy-1.26.4-cp312-cp312-manylinux_2_17_x86_64.manylinux2014_x86_64.whl.metadata (61 kB)\n",
      "\u001b[2K     \u001b[38;2;114;156;31m━━━━━━━━━━━━━━━━━━━━━━━━━━━━━━━━━━━━━━━━\u001b[0m \u001b[32m61.0/61.0 kB\u001b[0m \u001b[31m1.9 MB/s\u001b[0m eta \u001b[36m0:00:00\u001b[0m\n",
      "\u001b[?25hRequirement already satisfied: python-dateutil>=2.8.2 in ./miniconda3/envs/myenv/lib/python3.12/site-packages (from pandas) (2.9.0.post0)\n",
      "Requirement already satisfied: pytz>=2020.1 in ./miniconda3/envs/myenv/lib/python3.12/site-packages (from pandas) (2024.1)\n",
      "Collecting tzdata>=2022.7 (from pandas)\n",
      "  Downloading tzdata-2024.1-py2.py3-none-any.whl.metadata (1.4 kB)\n",
      "Requirement already satisfied: six>=1.5 in ./miniconda3/envs/myenv/lib/python3.12/site-packages (from python-dateutil>=2.8.2->pandas) (1.16.0)\n",
      "Downloading pandas-2.2.2-cp312-cp312-manylinux_2_17_x86_64.manylinux2014_x86_64.whl (12.7 MB)\n",
      "\u001b[2K   \u001b[38;2;114;156;31m━━━━━━━━━━━━━━━━━━━━━━━━━━━━━━━━━━━━━━━━\u001b[0m \u001b[32m12.7/12.7 MB\u001b[0m \u001b[31m14.0 MB/s\u001b[0m eta \u001b[36m0:00:00\u001b[0mm eta \u001b[36m0:00:01\u001b[0m[36m0:00:01\u001b[0m\n",
      "\u001b[?25hDownloading numpy-1.26.4-cp312-cp312-manylinux_2_17_x86_64.manylinux2014_x86_64.whl (18.0 MB)\n",
      "\u001b[2K   \u001b[38;2;114;156;31m━━━━━━━━━━━━━━━━━━━━━━━━━━━━━━━━━━━━━━━━\u001b[0m \u001b[32m18.0/18.0 MB\u001b[0m \u001b[31m15.6 MB/s\u001b[0m eta \u001b[36m0:00:00\u001b[0mm eta \u001b[36m0:00:01\u001b[0m0:01\u001b[0m:01\u001b[0m\n",
      "\u001b[?25hDownloading tzdata-2024.1-py2.py3-none-any.whl (345 kB)\n",
      "\u001b[2K   \u001b[38;2;114;156;31m━━━━━━━━━━━━━━━━━━━━━━━━━━━━━━━━━━━━━━━━\u001b[0m \u001b[32m345.4/345.4 kB\u001b[0m \u001b[31m17.4 MB/s\u001b[0m eta \u001b[36m0:00:00\u001b[0m\n",
      "\u001b[?25hInstalling collected packages: tzdata, numpy, pandas\n",
      "Successfully installed numpy-1.26.4 pandas-2.2.2 tzdata-2024.1\n",
      "Note: you may need to restart the kernel to use updated packages.\n"
     ]
    }
   ],
   "source": [
    "pip install pandas"
   ]
  },
  {
   "cell_type": "code",
   "execution_count": 3,
   "id": "45e08c11-f2ae-4d21-924e-bba127e00130",
   "metadata": {},
   "outputs": [
    {
     "name": "stdout",
     "output_type": "stream",
     "text": [
      "Collecting pyarrow\n",
      "  Downloading pyarrow-16.1.0-cp312-cp312-manylinux_2_28_x86_64.whl.metadata (3.0 kB)\n",
      "Requirement already satisfied: numpy>=1.16.6 in ./miniconda3/envs/myenv/lib/python3.12/site-packages (from pyarrow) (1.26.4)\n",
      "Downloading pyarrow-16.1.0-cp312-cp312-manylinux_2_28_x86_64.whl (40.8 MB)\n",
      "\u001b[2K   \u001b[38;2;114;156;31m━━━━━━━━━━━━━━━━━━━━━━━━━━━━━━━━━━━━━━━━\u001b[0m \u001b[32m40.8/40.8 MB\u001b[0m \u001b[31m19.3 MB/s\u001b[0m eta \u001b[36m0:00:00\u001b[0mm eta \u001b[36m0:00:01\u001b[0m0:01\u001b[0m:01\u001b[0m\n",
      "\u001b[?25hInstalling collected packages: pyarrow\n",
      "Successfully installed pyarrow-16.1.0\n",
      "Note: you may need to restart the kernel to use updated packages.\n"
     ]
    }
   ],
   "source": [
    "pip install pyarrow"
   ]
  },
  {
   "cell_type": "code",
   "execution_count": 4,
   "id": "ea63a7bd-a13d-49fa-88c5-586ee1a18523",
   "metadata": {},
   "outputs": [
    {
     "name": "stderr",
     "output_type": "stream",
     "text": [
      "2024-06-12 03:13:20,169 WARN util.NativeCodeLoader: Unable to load native-hadoop library for your platform... using builtin-java classes where applicable\n"
     ]
    },
    {
     "name": "stdout",
     "output_type": "stream",
     "text": [
      "/encore\n",
      "/output\n",
      "/tmp\n",
      "/user\n"
     ]
    }
   ],
   "source": [
    "import os\n",
    "import subprocess\n",
    "from pyarrow import fs\n",
    "import pyarrow as pa\n",
    "\n",
    "\n",
    "classpath = subprocess.Popen([\"/home/hadoop/hadoop/bin/hdfs\", \"classpath\", \"--glob\"], stdout=subprocess.PIPE).communicate()[0]\n",
    "os.environ[\"CLASSPATH\"] = classpath.decode(\"utf-8\")\n",
    "hdfs = fs.HadoopFileSystem(host='192.168.56.120', port=8020, user='hadoop')\n",
    "\n",
    "\n",
    "\n",
    "\n",
    "# 디렉토리 경로\n",
    "dir_path = '/'\n",
    "\n",
    "\n",
    "# 디렉토리 목록 가져오기\n",
    "file_infos = hdfs.get_file_info(pa.fs.FileSelector(dir_path, recursive=False))  \n",
    "for file_info in file_infos:\n",
    "    print(file_info.path) \n"
   ]
  },
  {
   "cell_type": "code",
   "execution_count": 5,
   "id": "09be2549-093d-4dbd-86c9-479fb6d5b75d",
   "metadata": {},
   "outputs": [],
   "source": [
    "hdfs.create_dir(\"/encore_test\")"
   ]
  },
  {
   "cell_type": "code",
   "execution_count": 6,
   "id": "800af0a7-36ee-4155-84d0-b92af3baf41b",
   "metadata": {},
   "outputs": [],
   "source": [
    "import pandas as pd"
   ]
  },
  {
   "cell_type": "code",
   "execution_count": 8,
   "id": "2404afdc-3749-4210-9781-c7a23928e469",
   "metadata": {},
   "outputs": [],
   "source": [
    "df = pd.DataFrame({'a':[1,2,3], 'b': [2,3,4]})"
   ]
  },
  {
   "cell_type": "code",
   "execution_count": 33,
   "id": "adb47f6d-009c-4e1c-8e2c-88b31912495f",
   "metadata": {},
   "outputs": [],
   "source": [
    "# 파케이 저장 형식\n",
    "import pyarrow.parquet as pq\n",
    "import pyarrow as pa"
   ]
  },
  {
   "cell_type": "code",
   "execution_count": 34,
   "id": "8cfc1c83-081b-4aed-acf9-b7b3badf8463",
   "metadata": {
    "scrolled": true
   },
   "outputs": [],
   "source": [
    "table= pa.Table.from_pandas(df)"
   ]
  },
  {
   "cell_type": "code",
   "execution_count": 35,
   "id": "4b9b2b88-9897-4ed2-b837-30759deee736",
   "metadata": {},
   "outputs": [],
   "source": [
    "pq.write_table(table, '/encore_test/aa.parquet', filesystem=hdfs)"
   ]
  },
  {
   "cell_type": "code",
   "execution_count": 30,
   "id": "85f94e69-73e3-4c3c-ba62-d474702c35fb",
   "metadata": {},
   "outputs": [
    {
     "name": "stdout",
     "output_type": "stream",
     "text": [
      "-rw-rw-r-- 1 hadoop hadoop 2252 Jun 12 03:18 /home/hadoop/encore.parquet\n"
     ]
    }
   ],
   "source": [
    "ls -l /home/hadoop/encore.parquet"
   ]
  },
  {
   "cell_type": "code",
   "execution_count": 40,
   "id": "6e967633-dd02-43bf-9b84-4ce71650399b",
   "metadata": {},
   "outputs": [
    {
     "data": {
      "text/html": [
       "<div>\n",
       "<style scoped>\n",
       "    .dataframe tbody tr th:only-of-type {\n",
       "        vertical-align: middle;\n",
       "    }\n",
       "\n",
       "    .dataframe tbody tr th {\n",
       "        vertical-align: top;\n",
       "    }\n",
       "\n",
       "    .dataframe thead th {\n",
       "        text-align: right;\n",
       "    }\n",
       "</style>\n",
       "<table border=\"1\" class=\"dataframe\">\n",
       "  <thead>\n",
       "    <tr style=\"text-align: right;\">\n",
       "      <th></th>\n",
       "      <th>a</th>\n",
       "      <th>b</th>\n",
       "    </tr>\n",
       "  </thead>\n",
       "  <tbody>\n",
       "    <tr>\n",
       "      <th>0</th>\n",
       "      <td>1</td>\n",
       "      <td>2</td>\n",
       "    </tr>\n",
       "    <tr>\n",
       "      <th>1</th>\n",
       "      <td>2</td>\n",
       "      <td>3</td>\n",
       "    </tr>\n",
       "    <tr>\n",
       "      <th>2</th>\n",
       "      <td>3</td>\n",
       "      <td>4</td>\n",
       "    </tr>\n",
       "  </tbody>\n",
       "</table>\n",
       "</div>"
      ],
      "text/plain": [
       "   a  b\n",
       "0  1  2\n",
       "1  2  3\n",
       "2  3  4"
      ]
     },
     "execution_count": 40,
     "metadata": {},
     "output_type": "execute_result"
    }
   ],
   "source": [
    "pd.read_parquet(\"aa.parquet\")"
   ]
  },
  {
   "cell_type": "code",
   "execution_count": 1,
   "id": "6647ea8c-8eaf-486a-a120-5b8f7451a075",
   "metadata": {},
   "outputs": [
    {
     "name": "stderr",
     "output_type": "stream",
     "text": [
      "2024-06-13 01:33:23,626 WARN util.NativeCodeLoader: Unable to load native-hadoop library for your platform... using builtin-java classes where applicable\n"
     ]
    },
    {
     "name": "stdout",
     "output_type": "stream",
     "text": [
      "/encore/input2.txt\n",
      "/encore/tpss_bcycl_od_statnhm_202001.csv\n",
      "/encore/tpss_bcycl_od_statnhm_202002.csv\n",
      "/encore/tpss_bcycl_od_statnhm_202003.csv\n",
      "/encore/tpss_bcycl_od_statnhm_202004.csv\n",
      "/encore/tpss_bcycl_od_statnhm_202005.csv\n",
      "/encore/tpss_bcycl_od_statnhm_202006.csv\n",
      "/encore/tpss_bcycl_od_statnhm_202007.csv._COPYING_\n"
     ]
    }
   ],
   "source": [
    "import os\n",
    "import subprocess\n",
    "from pyarrow import fs\n",
    "import pyarrow as pa\n",
    "\n",
    "\n",
    "classpath = subprocess.Popen([\"/home/hadoop/hadoop/bin/hdfs\", \"classpath\", \"--glob\"], stdout=subprocess.PIPE).communicate()[0]\n",
    "os.environ[\"CLASSPATH\"] = classpath.decode(\"utf-8\")\n",
    "hdfs = fs.HadoopFileSystem(host='192.168.0.160', port=8020, user='hadoop')\n",
    "\n",
    "# 디렉토리 경로\n",
    "dir_path = '/encore'\n",
    "\n",
    "\n",
    "# 디렉토리 목록 가져오기\n",
    "file_infos = hdfs.get_file_info(pa.fs.FileSelector(dir_path, recursive=False))  \n",
    "for file_info in file_infos:\n",
    "    print(file_info.path)\n",
    "\n",
    "import pandas as pd\n",
    "\n",
    "\n",
    "file_path = \"/encore/tpss_bcycl_od_statnhm_202001.csv\"\n",
    "\n"
   ]
  },
  {
   "cell_type": "code",
   "execution_count": 2,
   "id": "00339ae1-a266-49f4-8224-e2897f82e362",
   "metadata": {},
   "outputs": [
    {
     "name": "stdout",
     "output_type": "stream",
     "text": [
      "Collecting tqdm\n",
      "  Downloading tqdm-4.66.4-py3-none-any.whl.metadata (57 kB)\n",
      "\u001b[2K     \u001b[90m━━━━━━━━━━━━━━━━━━━━━━━━━━━━━━━━━━━━━━━━\u001b[0m \u001b[32m57.6/57.6 kB\u001b[0m \u001b[31m2.1 MB/s\u001b[0m eta \u001b[36m0:00:00\u001b[0m\n",
      "\u001b[?25hDownloading tqdm-4.66.4-py3-none-any.whl (78 kB)\n",
      "\u001b[2K   \u001b[90m━━━━━━━━━━━━━━━━━━━━━━━━━━━━━━━━━━━━━━━━\u001b[0m \u001b[32m78.3/78.3 kB\u001b[0m \u001b[31m9.0 MB/s\u001b[0m eta \u001b[36m0:00:00\u001b[0m\n",
      "\u001b[?25hInstalling collected packages: tqdm\n",
      "Successfully installed tqdm-4.66.4\n",
      "Note: you may need to restart the kernel to use updated packages.\n"
     ]
    }
   ],
   "source": [
    "pip install tqdm"
   ]
  },
  {
   "cell_type": "code",
   "execution_count": 3,
   "id": "30bf5ca3-deaa-4e27-9b81-04c476f5d29f",
   "metadata": {},
   "outputs": [],
   "source": [
    "import pyarrow.parquet as pq\n",
    "import pyarrow as pa\n",
    "from pyarrow import csv\n",
    "from tqdm import tqdm\n",
    "\n",
    "with hdfs.open_input_file(file_path) as f:\n",
    "    #table = csv.read_csv(f)\n",
    "    df = pd.read_csv(f, encoding='cp949')"
   ]
  },
  {
   "cell_type": "code",
   "execution_count": 4,
   "id": "e8804774-c59f-4edf-b326-7185f70860ff",
   "metadata": {},
   "outputs": [
    {
     "data": {
      "text/plain": [
       "(1669003, 10)"
      ]
     },
     "execution_count": 4,
     "metadata": {},
     "output_type": "execute_result"
    }
   ],
   "source": [
    "df.shape"
   ]
  },
  {
   "cell_type": "code",
   "execution_count": 7,
   "id": "3bbcd838-67df-4c26-9b4a-631247a3f167",
   "metadata": {},
   "outputs": [
    {
     "data": {
      "text/html": [
       "<div>\n",
       "<style scoped>\n",
       "    .dataframe tbody tr th:only-of-type {\n",
       "        vertical-align: middle;\n",
       "    }\n",
       "\n",
       "    .dataframe tbody tr th {\n",
       "        vertical-align: top;\n",
       "    }\n",
       "\n",
       "    .dataframe thead th {\n",
       "        text-align: right;\n",
       "    }\n",
       "</style>\n",
       "<table border=\"1\" class=\"dataframe\">\n",
       "  <thead>\n",
       "    <tr style=\"text-align: right;\">\n",
       "      <th></th>\n",
       "      <th>기준_날짜</th>\n",
       "      <th>구분코드</th>\n",
       "      <th>기준_시간</th>\n",
       "      <th>시작_대여소ID</th>\n",
       "      <th>시작_대여소명</th>\n",
       "      <th>종료_대여소ID</th>\n",
       "      <th>종료_대여소명</th>\n",
       "      <th>전체건수</th>\n",
       "      <th>전체이용시간(분)</th>\n",
       "      <th>전체이용거리(m)</th>\n",
       "    </tr>\n",
       "  </thead>\n",
       "  <tbody>\n",
       "    <tr>\n",
       "      <th>0</th>\n",
       "      <td>20200101</td>\n",
       "      <td>0</td>\n",
       "      <td>0</td>\n",
       "      <td>ST-443</td>\n",
       "      <td>성산2동_041_2</td>\n",
       "      <td>ST-82</td>\n",
       "      <td>성산2동_041_3</td>\n",
       "      <td>1</td>\n",
       "      <td>2</td>\n",
       "      <td>450</td>\n",
       "    </tr>\n",
       "    <tr>\n",
       "      <th>1</th>\n",
       "      <td>20200101</td>\n",
       "      <td>0</td>\n",
       "      <td>0</td>\n",
       "      <td>ST-56</td>\n",
       "      <td>여의동_005_10</td>\n",
       "      <td>ST-1321</td>\n",
       "      <td>영등포동_036_1</td>\n",
       "      <td>1</td>\n",
       "      <td>10</td>\n",
       "      <td>1460</td>\n",
       "    </tr>\n",
       "    <tr>\n",
       "      <th>2</th>\n",
       "      <td>20200101</td>\n",
       "      <td>0</td>\n",
       "      <td>0</td>\n",
       "      <td>ST-1546</td>\n",
       "      <td>조원동_004_1</td>\n",
       "      <td>ST-703</td>\n",
       "      <td>신사동_023_1</td>\n",
       "      <td>1</td>\n",
       "      <td>5</td>\n",
       "      <td>700</td>\n",
       "    </tr>\n",
       "  </tbody>\n",
       "</table>\n",
       "</div>"
      ],
      "text/plain": [
       "      기준_날짜  구분코드  기준_시간 시작_대여소ID     시작_대여소명 종료_대여소ID     종료_대여소명  전체건수  \\\n",
       "0  20200101     0      0   ST-443  성산2동_041_2    ST-82  성산2동_041_3     1   \n",
       "1  20200101     0      0    ST-56  여의동_005_10  ST-1321  영등포동_036_1     1   \n",
       "2  20200101     0      0  ST-1546   조원동_004_1   ST-703   신사동_023_1     1   \n",
       "\n",
       "   전체이용시간(분)  전체이용거리(m)  \n",
       "0          2        450  \n",
       "1         10       1460  \n",
       "2          5        700  "
      ]
     },
     "execution_count": 7,
     "metadata": {},
     "output_type": "execute_result"
    }
   ],
   "source": [
    "df.head(3)"
   ]
  },
  {
   "cell_type": "code",
   "execution_count": 8,
   "id": "b2e0d86e-e5d3-4a6a-a083-22dba051f321",
   "metadata": {},
   "outputs": [
    {
     "name": "stdout",
     "output_type": "stream",
     "text": [
      "Collecting finance-datareader\n",
      "  Downloading finance_datareader-0.9.90-py3-none-any.whl.metadata (466 bytes)\n",
      "Requirement already satisfied: pandas>=0.19.2 in ./miniconda3/envs/myenv/lib/python3.12/site-packages (from finance-datareader) (2.2.2)\n",
      "Requirement already satisfied: requests>=2.3.0 in ./miniconda3/envs/myenv/lib/python3.12/site-packages (from finance-datareader) (2.32.2)\n",
      "Collecting requests-file (from finance-datareader)\n",
      "  Downloading requests_file-2.1.0-py2.py3-none-any.whl.metadata (1.7 kB)\n",
      "Collecting lxml (from finance-datareader)\n",
      "  Downloading lxml-5.2.2-cp312-cp312-manylinux_2_28_x86_64.whl.metadata (3.4 kB)\n",
      "Requirement already satisfied: tqdm in ./miniconda3/envs/myenv/lib/python3.12/site-packages (from finance-datareader) (4.66.4)\n",
      "Requirement already satisfied: numpy>=1.26.0 in ./miniconda3/envs/myenv/lib/python3.12/site-packages (from pandas>=0.19.2->finance-datareader) (1.26.4)\n",
      "Requirement already satisfied: python-dateutil>=2.8.2 in ./miniconda3/envs/myenv/lib/python3.12/site-packages (from pandas>=0.19.2->finance-datareader) (2.9.0.post0)\n",
      "Requirement already satisfied: pytz>=2020.1 in ./miniconda3/envs/myenv/lib/python3.12/site-packages (from pandas>=0.19.2->finance-datareader) (2024.1)\n",
      "Requirement already satisfied: tzdata>=2022.7 in ./miniconda3/envs/myenv/lib/python3.12/site-packages (from pandas>=0.19.2->finance-datareader) (2024.1)\n",
      "Requirement already satisfied: charset-normalizer<4,>=2 in ./miniconda3/envs/myenv/lib/python3.12/site-packages (from requests>=2.3.0->finance-datareader) (2.0.4)\n",
      "Requirement already satisfied: idna<4,>=2.5 in ./miniconda3/envs/myenv/lib/python3.12/site-packages (from requests>=2.3.0->finance-datareader) (3.7)\n",
      "Requirement already satisfied: urllib3<3,>=1.21.1 in ./miniconda3/envs/myenv/lib/python3.12/site-packages (from requests>=2.3.0->finance-datareader) (2.2.1)\n",
      "Requirement already satisfied: certifi>=2017.4.17 in ./miniconda3/envs/myenv/lib/python3.12/site-packages (from requests>=2.3.0->finance-datareader) (2024.6.2)\n",
      "Requirement already satisfied: six>=1.5 in ./miniconda3/envs/myenv/lib/python3.12/site-packages (from python-dateutil>=2.8.2->pandas>=0.19.2->finance-datareader) (1.16.0)\n",
      "Downloading finance_datareader-0.9.90-py3-none-any.whl (46 kB)\n",
      "\u001b[2K   \u001b[90m━━━━━━━━━━━━━━━━━━━━━━━━━━━━━━━━━━━━━━━━\u001b[0m \u001b[32m46.6/46.6 kB\u001b[0m \u001b[31m2.3 MB/s\u001b[0m eta \u001b[36m0:00:00\u001b[0m\n",
      "\u001b[?25hDownloading lxml-5.2.2-cp312-cp312-manylinux_2_28_x86_64.whl (4.9 MB)\n",
      "\u001b[2K   \u001b[90m━━━━━━━━━━━━━━━━━━━━━━━━━━━━━━━━━━━━━━━━\u001b[0m \u001b[32m4.9/4.9 MB\u001b[0m \u001b[31m15.7 MB/s\u001b[0m eta \u001b[36m0:00:00\u001b[0m00:01\u001b[0m00:01\u001b[0m\n",
      "\u001b[?25hDownloading requests_file-2.1.0-py2.py3-none-any.whl (4.2 kB)\n",
      "Installing collected packages: lxml, requests-file, finance-datareader\n",
      "Successfully installed finance-datareader-0.9.90 lxml-5.2.2 requests-file-2.1.0\n",
      "Note: you may need to restart the kernel to use updated packages.\n"
     ]
    }
   ],
   "source": [
    "pip install finance-datareader"
   ]
  },
  {
   "cell_type": "code",
   "execution_count": 13,
   "id": "f7b77b27-b790-49a1-8f07-f161ee4f92f6",
   "metadata": {},
   "outputs": [
    {
     "name": "stdout",
     "output_type": "stream",
     "text": [
      "Channels:\n",
      " - defaults\n",
      "Platform: linux-64\n",
      "Collecting package metadata (repodata.json): done\n",
      "Solving environment: failed\n",
      "\n",
      "PackagesNotFoundError: The following packages are not available from current channels:\n",
      "\n",
      "  - ploty\n",
      "\n",
      "Current channels:\n",
      "\n",
      "  - defaults\n",
      "\n",
      "To search for alternate channels that may provide the conda package you're\n",
      "looking for, navigate to\n",
      "\n",
      "    https://anaconda.org\n",
      "\n",
      "and use the search bar at the top of the page.\n",
      "\n",
      "\n",
      "\n",
      "Note: you may need to restart the kernel to use updated packages.\n"
     ]
    }
   ],
   "source": [
    "conda install ploty"
   ]
  },
  {
   "cell_type": "code",
   "execution_count": 16,
   "id": "889cc56d-0d4e-4fd7-a075-7e0d8770d467",
   "metadata": {},
   "outputs": [
    {
     "name": "stderr",
     "output_type": "stream",
     "text": [
      "/tmp/ipykernel_2021/3753983074.py:4: FutureWarning: Passing literal html to 'read_html' is deprecated and will be removed in a future version. To read from a literal string, wrap it in a 'StringIO' object.\n",
      "  rt = pd.read_html(requests.get(\"https://finance.naver.com/item/sise_time.naver?code=036460&thistime=20240613103924\",\n"
     ]
    }
   ],
   "source": [
    "import requests\n",
    "head = {'User-Agent':\n",
    "'Mozilla/5.0 (Windows NT 10.0; Win64; x64) AppleWebKit/537.36 (KHTML, like Gecko) Chrome/125.0.0.0 Safari/537.36'}\n",
    "rt = pd.read_html(requests.get(\"https://finance.naver.com/item/sise_time.naver?code=036460&thistime=20240613103924\",\n",
    "                              headers=head).text)[0].dropna()\n",
    "\n",
    "import pyarrow as pa\n",
    "import pyarrow.parquet as pq\n",
    "table = pa.Table.from_pandas(rt)\n",
    "pq.write_table(table, '/rsh/stock.parquet', filesysteming: Passing literal html to 'read_html' is deprecated and will be removed in a future ver=hdfs)\n"
   ]
  },
  {
   "cell_type": "code",
   "execution_count": 17,
   "id": "7290e8fa-53f5-488b-8dfc-6614a7a7427b",
   "metadata": {},
   "outputs": [
    {
     "data": {
      "text/html": [
       "<div>\n",
       "<style scoped>\n",
       "    .dataframe tbody tr th:only-of-type {\n",
       "        vertical-align: middle;\n",
       "    }\n",
       "\n",
       "    .dataframe tbody tr th {\n",
       "        vertical-align: top;\n",
       "    }\n",
       "\n",
       "    .dataframe thead th {\n",
       "        text-align: right;\n",
       "    }\n",
       "</style>\n",
       "<table border=\"1\" class=\"dataframe\">\n",
       "  <thead>\n",
       "    <tr style=\"text-align: right;\">\n",
       "      <th></th>\n",
       "      <th>체결시각</th>\n",
       "      <th>체결가</th>\n",
       "      <th>전일비</th>\n",
       "      <th>매도</th>\n",
       "      <th>매수</th>\n",
       "      <th>거래량</th>\n",
       "      <th>변동량</th>\n",
       "    </tr>\n",
       "  </thead>\n",
       "  <tbody>\n",
       "    <tr>\n",
       "      <th>1</th>\n",
       "      <td>10:39</td>\n",
       "      <td>52900.0</td>\n",
       "      <td>상승  7,100</td>\n",
       "      <td>52900.0</td>\n",
       "      <td>52800.0</td>\n",
       "      <td>10946336.0</td>\n",
       "      <td>41371.0</td>\n",
       "    </tr>\n",
       "    <tr>\n",
       "      <th>2</th>\n",
       "      <td>10:38</td>\n",
       "      <td>52500.0</td>\n",
       "      <td>상승  6,700</td>\n",
       "      <td>52700.0</td>\n",
       "      <td>52500.0</td>\n",
       "      <td>10904965.0</td>\n",
       "      <td>33502.0</td>\n",
       "    </tr>\n",
       "    <tr>\n",
       "      <th>3</th>\n",
       "      <td>10:37</td>\n",
       "      <td>52700.0</td>\n",
       "      <td>상승  6,900</td>\n",
       "      <td>52800.0</td>\n",
       "      <td>52700.0</td>\n",
       "      <td>10871463.0</td>\n",
       "      <td>42187.0</td>\n",
       "    </tr>\n",
       "    <tr>\n",
       "      <th>4</th>\n",
       "      <td>10:36</td>\n",
       "      <td>52600.0</td>\n",
       "      <td>상승  6,800</td>\n",
       "      <td>52600.0</td>\n",
       "      <td>52500.0</td>\n",
       "      <td>10829276.0</td>\n",
       "      <td>51083.0</td>\n",
       "    </tr>\n",
       "    <tr>\n",
       "      <th>5</th>\n",
       "      <td>10:35</td>\n",
       "      <td>52300.0</td>\n",
       "      <td>상승  6,500</td>\n",
       "      <td>52400.0</td>\n",
       "      <td>52300.0</td>\n",
       "      <td>10778193.0</td>\n",
       "      <td>75469.0</td>\n",
       "    </tr>\n",
       "    <tr>\n",
       "      <th>9</th>\n",
       "      <td>10:34</td>\n",
       "      <td>52300.0</td>\n",
       "      <td>상승  6,500</td>\n",
       "      <td>52400.0</td>\n",
       "      <td>52300.0</td>\n",
       "      <td>10702724.0</td>\n",
       "      <td>71395.0</td>\n",
       "    </tr>\n",
       "    <tr>\n",
       "      <th>10</th>\n",
       "      <td>10:33</td>\n",
       "      <td>52600.0</td>\n",
       "      <td>상승  6,800</td>\n",
       "      <td>52700.0</td>\n",
       "      <td>52600.0</td>\n",
       "      <td>10631329.0</td>\n",
       "      <td>70944.0</td>\n",
       "    </tr>\n",
       "    <tr>\n",
       "      <th>11</th>\n",
       "      <td>10:32</td>\n",
       "      <td>52900.0</td>\n",
       "      <td>상승  7,100</td>\n",
       "      <td>52900.0</td>\n",
       "      <td>52800.0</td>\n",
       "      <td>10560385.0</td>\n",
       "      <td>36278.0</td>\n",
       "    </tr>\n",
       "    <tr>\n",
       "      <th>12</th>\n",
       "      <td>10:31</td>\n",
       "      <td>52900.0</td>\n",
       "      <td>상승  7,100</td>\n",
       "      <td>52900.0</td>\n",
       "      <td>52800.0</td>\n",
       "      <td>10524107.0</td>\n",
       "      <td>57946.0</td>\n",
       "    </tr>\n",
       "    <tr>\n",
       "      <th>13</th>\n",
       "      <td>10:30</td>\n",
       "      <td>53100.0</td>\n",
       "      <td>상승  7,300</td>\n",
       "      <td>53200.0</td>\n",
       "      <td>53100.0</td>\n",
       "      <td>10466161.0</td>\n",
       "      <td>143246.0</td>\n",
       "    </tr>\n",
       "  </tbody>\n",
       "</table>\n",
       "</div>"
      ],
      "text/plain": [
       "     체결시각      체결가        전일비       매도       매수         거래량       변동량\n",
       "1   10:39  52900.0  상승  7,100  52900.0  52800.0  10946336.0   41371.0\n",
       "2   10:38  52500.0  상승  6,700  52700.0  52500.0  10904965.0   33502.0\n",
       "3   10:37  52700.0  상승  6,900  52800.0  52700.0  10871463.0   42187.0\n",
       "4   10:36  52600.0  상승  6,800  52600.0  52500.0  10829276.0   51083.0\n",
       "5   10:35  52300.0  상승  6,500  52400.0  52300.0  10778193.0   75469.0\n",
       "9   10:34  52300.0  상승  6,500  52400.0  52300.0  10702724.0   71395.0\n",
       "10  10:33  52600.0  상승  6,800  52700.0  52600.0  10631329.0   70944.0\n",
       "11  10:32  52900.0  상승  7,100  52900.0  52800.0  10560385.0   36278.0\n",
       "12  10:31  52900.0  상승  7,100  52900.0  52800.0  10524107.0   57946.0\n",
       "13  10:30  53100.0  상승  7,300  53200.0  53100.0  10466161.0  143246.0"
      ]
     },
     "execution_count": 17,
     "metadata": {},
     "output_type": "execute_result"
    }
   ],
   "source": [
    "rt"
   ]
  },
  {
   "cell_type": "code",
   "execution_count": null,
   "id": "ee94c7e3-ba62-4a88-ad0e-1fa3e0e34878",
   "metadata": {},
   "outputs": [],
   "source": [
    "CREATE EXTERNAL TABLE stock(\n",
    "    time STRING,\n",
    "    체결가\t전일비\t매도\t매수\t거래량\t변동량\n",
    "    "
   ]
  }
 ],
 "metadata": {
  "kernelspec": {
   "display_name": "Python 3 (ipykernel)",
   "language": "python",
   "name": "python3"
  },
  "language_info": {
   "codemirror_mode": {
    "name": "ipython",
    "version": 3
   },
   "file_extension": ".py",
   "mimetype": "text/x-python",
   "name": "python",
   "nbconvert_exporter": "python",
   "pygments_lexer": "ipython3",
   "version": "3.12.3"
  }
 },
 "nbformat": 4,
 "nbformat_minor": 5
}
